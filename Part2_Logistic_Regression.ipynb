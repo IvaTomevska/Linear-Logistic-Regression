{
 "cells": [
  {
   "cell_type": "markdown",
   "metadata": {},
   "source": [
    "# Logistic Regression \n",
    "\n",
    "In the assignment, you will use gradient ascent to find the weights for the logistic regression.   \n",
    "\n",
    "As an example, we will use the widely-used breast cancer data set.  This data set is described here:\n",
    "\n",
    "https://archive.ics.uci.edu/ml/machine-learning-databases/breast-cancer-wisconsin\n"
   ]
  },
  {
   "cell_type": "markdown",
   "metadata": {},
   "source": [
    "## Step 1:  Getting, preprocessing, and understanding the dataset"
   ]
  },
  {
   "cell_type": "markdown",
   "metadata": {},
   "source": [
    "### Importing the standard libraries"
   ]
  },
  {
   "cell_type": "code",
   "execution_count": 104,
   "metadata": {},
   "outputs": [],
   "source": [
    "# Importing important libraries\n",
    "# Import breastcancer dataset\n",
    "# Import preprocessing from sklearn\n",
    "# Import train_test_split from sklearn\n",
    "# Import numpy,math\n",
    "\n",
    "import sklearn\n",
    "import math\n",
    "import numpy as np\n",
    "import matplotlib.pyplot as plt \n",
    "from sklearn.model_selection import train_test_split\n",
    "from sklearn.datasets import load_breast_cancer\n",
    "from sklearn import preprocessing\n",
    "from sklearn.metrics import confusion_matrix\n"
   ]
  },
  {
   "cell_type": "markdown",
   "metadata": {},
   "source": [
    "### Importing the dataset"
   ]
  },
  {
   "cell_type": "code",
   "execution_count": 105,
   "metadata": {},
   "outputs": [],
   "source": [
    "# Load dataset to a python variable cancer\n",
    "# Store target to a variable called y\n",
    "# Store feature to a variable called X\n",
    "\n",
    "breast_cancer = load_breast_cancer()\n",
    "\n",
    "x = breast_cancer.data\n",
    "y = breast_cancer.target\n"
   ]
  },
  {
   "cell_type": "code",
   "execution_count": 106,
   "metadata": {
    "scrolled": true
   },
   "outputs": [
    {
     "name": "stdout",
     "output_type": "stream",
     "text": [
      "(569, 30)\n",
      "(569,)\n"
     ]
    }
   ],
   "source": [
    "# Printing the shape of data (X) and target (Y) values \n",
    "\n",
    "print(x.shape)\n",
    "print(y.shape)"
   ]
  },
  {
   "cell_type": "markdown",
   "metadata": {},
   "source": [
    "### Data Pre-Processing\n",
    "#### Splitting the data into train and test before scaling the dataset\n"
   ]
  },
  {
   "cell_type": "code",
   "execution_count": 107,
   "metadata": {},
   "outputs": [],
   "source": [
    "# Use train_test_split() function to split the dataset\n",
    "# Store the return value of pervious step to X_train, X_test, y_train, y_test\n",
    "\n",
    "x_train, x_test, y_train, y_test = train_test_split(x, y)"
   ]
  },
  {
   "cell_type": "markdown",
   "metadata": {},
   "source": [
    "#### Scale the data since we will be using gradient ascent"
   ]
  },
  {
   "cell_type": "code",
   "execution_count": 108,
   "metadata": {},
   "outputs": [],
   "source": [
    "# Find the scaler of the dataset by using preprocessing.StandardScaler().fit()\n",
    "# Using this scale to scale the X_train and X_test using .transform()\n",
    "\n",
    "scaler = preprocessing.StandardScaler().fit(x)\n",
    "x_train = scaler.transform(x_train)\n",
    "x_test = scaler.transform(x_test)"
   ]
  },
  {
   "cell_type": "code",
   "execution_count": 109,
   "metadata": {},
   "outputs": [
    {
     "name": "stdout",
     "output_type": "stream",
     "text": [
      "(426, 30)\n",
      "(426,)\n"
     ]
    }
   ],
   "source": [
    "# TODO - Print the shape of x_train and y_train \n",
    "\n",
    "print(x_train.shape) # It should print (426, 30)\n",
    "print(y_train.shape) # It should print (426,)"
   ]
  },
  {
   "cell_type": "markdown",
   "metadata": {},
   "source": [
    "#### Adding a column of ones to the  matrices $X_{train}$ and  $X_{test}$\n",
    "After adding a column of ones $X_{train}=\\left[\\begin{matrix}\n",
    "1& x^{(1)}_1& x^{(1)}_2 &\\ldots& x^{(1)}_d\\\\\n",
    "1& x^{(2)}_1& x^{(2)}_2 &\\ldots& x^{(2)}_d\\\\\n",
    "\\vdots & \\vdots &\\vdots & & \\vdots \\\\\n",
    "1& x^{(N')}_1& x^{(N')}_2 &\\ldots& x^{(N')}_d\\\\\n",
    "\\end{matrix}\\right]$\n",
    "\n",
    "Similarly for $X_{test}$"
   ]
  },
  {
   "cell_type": "code",
   "execution_count": 112,
   "metadata": {
    "scrolled": true
   },
   "outputs": [
    {
     "name": "stdout",
     "output_type": "stream",
     "text": [
      "Old test data dimensions: (143, 32)\n",
      "The trainng data has dimensions:  (426, 33) . The testing data has dimensions:  (143, 33)\n",
      "[[ 1.          1.          1.         -0.64962332 -0.08136555 -0.67795088\n",
      "  -0.64529589 -0.54443564 -0.66976393 -0.77978067 -0.90250941 -1.01722084\n",
      "  -0.31578688 -0.66038458 -0.63802025 -0.70396285 -0.51081543 -0.50801357\n",
      "  -0.4587491  -0.37943957 -0.81901884 -0.53060218 -0.33017706 -0.61486734\n",
      "  -0.11191003 -0.656516   -0.58764056 -0.19150121 -0.42153826 -0.60011494\n",
      "  -0.69244814 -0.5917125  -0.22253979]\n",
      " [ 1.          1.          1.          0.60855956  0.33052533  0.6150095\n",
      "   0.45167449  1.46171817  0.52228412  0.74075188  0.92757364  0.49792067\n",
      "  -0.00391398  0.11667834  0.02748109  0.19996305  0.08961122 -0.11466429\n",
      "  -0.25978234  0.01943942  0.34451109 -0.62746498 -0.38048449  0.62348619\n",
      "   0.765818    0.67133668  0.42263187  1.16741142  0.25722281  0.41983856\n",
      "   0.66530755  0.32718689 -0.10782905]]\n"
     ]
    }
   ],
   "source": [
    "# Append a column of ones to x_train \n",
    "\n",
    "row_ones = np.ones(len(x_train))\n",
    "\n",
    "# Create a column vector of ones by using np.ones and reshape\n",
    "# Append a column of ones in the beginning of x_train by using np.hstack\n",
    "\n",
    "col_ones = row_ones.reshape(-1,1)\n",
    "#print(col_ones.shape)\n",
    "x_train = np.hstack((col_ones, x_train))\n",
    "\n",
    "# Now do the same for the test data\n",
    "print(\"Old test data dimensions:\", x_test.shape)\n",
    "row_ones = np.ones(len(x_test))\n",
    "col_ones = row_ones.reshape(-1,1)\n",
    "#print(x_test.shape)\n",
    "#print(col_ones.shape)\n",
    "x_test = np.hstack((col_ones, x_test))\n",
    "\n",
    "# We can check that everything worked correctly by:\n",
    "# Printing out the new dimensions\n",
    "print(\"The trainng data has dimensions: \", x_train.shape, \". The testing data has dimensions: \",x_test.shape)\n",
    "\n",
    "# # Looking at the first two rows of X_train to check everything worked as expected\n",
    "print(x_train[0:2])\n",
    "\n"
   ]
  },
  {
   "cell_type": "markdown",
   "metadata": {},
   "source": [
    "### Understanding the dataset"
   ]
  },
  {
   "cell_type": "code",
   "execution_count": 78,
   "metadata": {},
   "outputs": [
    {
     "name": "stdout",
     "output_type": "stream",
     "text": [
      "['mean radius' 'mean texture' 'mean perimeter' 'mean area'\n",
      " 'mean smoothness' 'mean compactness' 'mean concavity'\n",
      " 'mean concave points' 'mean symmetry' 'mean fractal dimension'\n",
      " 'radius error' 'texture error' 'perimeter error' 'area error'\n",
      " 'smoothness error' 'compactness error' 'concavity error'\n",
      " 'concave points error' 'symmetry error' 'fractal dimension error'\n",
      " 'worst radius' 'worst texture' 'worst perimeter' 'worst area'\n",
      " 'worst smoothness' 'worst compactness' 'worst concavity'\n",
      " 'worst concave points' 'worst symmetry' 'worst fractal dimension']\n"
     ]
    }
   ],
   "source": [
    "# Printing the names of all the features\n",
    "# print(cancer.feature_names)\n",
    "\n",
    "print(breast_cancer.feature_names)"
   ]
  },
  {
   "cell_type": "code",
   "execution_count": 79,
   "metadata": {},
   "outputs": [],
   "source": [
    "# You can add your own code here to better understand the dataset"
   ]
  },
  {
   "cell_type": "markdown",
   "metadata": {},
   "source": [
    "\n",
    " Before writing the gradient ascent code, first write some helpful functions"
   ]
  },
  {
   "cell_type": "markdown",
   "metadata": {},
   "source": [
    "\n",
    " \n",
    "### Sigmoid($z$)\n",
    "The first function you will write is sigmoid($z$)\n",
    "\n",
    "sigmoid($z$) takes as input a column vector of real numbers, $z^T = [z_1, z_2, ..., z_{N'}]$, where $N'$ is the number of  examples\n",
    "\n",
    "It should produce as output a column vector $\\left[\\frac{1}{1+e^{-z_1}},\\frac{1}{1+e^{-z_2}},...,\\frac{1}{1+e^{-z_{N'}}}\\right]^T$"
   ]
  },
  {
   "cell_type": "code",
   "execution_count": 80,
   "metadata": {},
   "outputs": [],
   "source": [
    "# Write the sigmoid function\n",
    "def sigmoid(z):\n",
    "    \n",
    "    y = 1/(1+np.exp(-z))\n",
    "    \n",
    "    return y"
   ]
  },
  {
   "cell_type": "markdown",
   "metadata": {},
   "source": [
    "### Initializing ${\\bf w}$\n",
    "For testing the next functions, we create a coefficient vector, ${\\bf w}$.\n",
    "We will initialize the coeffients to be $0$, i.e. ${\\bf w}^T = [0,0,\\ldots ,0]$ (We could have initialized ${\\bf w}$ to any values.)"
   ]
  },
  {
   "cell_type": "code",
   "execution_count": 81,
   "metadata": {},
   "outputs": [],
   "source": [
    "# Initialize w using np.zeros()\n",
    "\n",
    "w = np.zeros((x_train.shape[1], 1))"
   ]
  },
  {
   "cell_type": "markdown",
   "metadata": {},
   "source": [
    "### Our hypothesis, $h({\\bf x})$\n",
    "The next  function to write is our hypothesis function. \n",
    "\n",
    "For example if our design matrix $X$ consists of single example $X=[1,x_1,x_2,\\ldots,x_d]$ and  weights ${\\bf w}^T=[w_0,w_2,\\ldots, w_d]$, it returns $h({\\bf x})=\\frac{1}{1+e^{-\\left({w_{0}\\cdot 1 +w_1\\cdot x_1+\\cdots w_d\\cdot x_d}\\right)}}$\n",
    "\n",
    "If given a  matrix consisting of $N'$ examples \n",
    "$X=\\left[\\begin{matrix}\n",
    "1& x^{(1)}_1& x^{(1)}_2 &\\ldots& x^{(1)}_d\\\\\n",
    "1& x^{(2)}_1& x^{(2)}_2 &\\ldots& x^{(2)}_d\\\\\n",
    "\\vdots & \\vdots &\\vdots & & \\vdots \\\\\n",
    "1& x^{(N')}_1& x^{(N')}_2 &\\ldots& x^{(N')}_d\\\\\n",
    "\\end{matrix}\\right]$\n",
    "and  weights ${\\bf w}^T=[w_0,w_2,\\ldots, w_d]$, the function returns a column vector\n",
    "$[h({\\bf x}^{(1)}),h({\\bf x}^{(2)},\\ldots, h({\\bf x}^{(N')}]^T$"
   ]
  },
  {
   "cell_type": "code",
   "execution_count": 82,
   "metadata": {},
   "outputs": [],
   "source": [
    "# Predict the probability that a patient has cancer \n",
    "# Write the hypothesis function \n",
    "def hypothesis(x , w):\n",
    "    \n",
    "    h = sigmoid(np.dot(x, w))\n",
    "\n",
    "    return h\n"
   ]
  },
  {
   "cell_type": "markdown",
   "metadata": {},
   "source": [
    "### Log-Likelihood Function.\n",
    "Write the code to calculate the log likelihood function $\\ell({\\bf w})=\n",
    "\\sum_{i=1}^{N'}y^{(i)}\\ln(h({\\bf x}^{(i)})) +(1- y^{(i)})\\ln(1-h({\\bf x}^{(i)}))$\n",
    "\n",
    "The input is a matrix consisting of $N'$ examples $X=\\left[\\begin{matrix}\n",
    "1& x^{(1)}_1& x^{(1)}_2 &\\ldots& x^{(1)}_d\\\\\n",
    "1& x^{(2)}_1& x^{(2)}_2 &\\ldots& x^{(2)}_d\\\\\n",
    "\\vdots & \\vdots &\\vdots & & \\vdots \\\\\n",
    "1& x^{(N')}_1& x^{(N')}_2 &\\ldots& x^{(N')}_d\\\\\n",
    "\\end{matrix}\\right]$\n",
    "and a column vector ${\\bf y}^T=[y^{(1)},y^{(2)},\\dots,y^{(N')}]$ of labels for $X$.\n",
    "\n",
    "The output is $\\ell({\\bf w})$"
   ]
  },
  {
   "cell_type": "code",
   "execution_count": 83,
   "metadata": {},
   "outputs": [],
   "source": [
    "# Write the log likelihood function \n",
    "def log_likelihood(x , y , w ):\n",
    "    \n",
    "    m = x.shape[0]\n",
    "    h = hypothesis(x, w)\n",
    "    log_like = (1/m)*np.sum(y*np.log(h)+(1-y)*np.log(1-h))\n",
    "\n",
    "    return log_like"
   ]
  },
  {
   "cell_type": "markdown",
   "metadata": {},
   "source": [
    "# Gradient Ascent\n",
    "Now write the code to perform gradient ascent.  You will use the update rule from the lecture notes."
   ]
  },
  {
   "cell_type": "code",
   "execution_count": 84,
   "metadata": {},
   "outputs": [],
   "source": [
    "# TODO - Write the gradient ascent function \n",
    "def Logistic_Regresion_Gradient_Ascent(x, y, learning_rate, num_iters):\n",
    "    # For every 100 iterations, store the log_likelihood for the current w\n",
    "    # Initializing log_likelihood to be an empty list  \n",
    "    # Initialize w to be a zero vector of shape x_train.shape[1],1\n",
    "    # Initialize N to the number of training examples\n",
    "    \n",
    "    y = y.reshape(y.shape[0], 1)\n",
    "    log_likelihood_values = []\n",
    "    w = np.zeros((x.shape[1],1))\n",
    "    N = x.shape[0]\n",
    "    \n",
    "    for i in range(num_iters):\n",
    "        # update the w using formula \n",
    "        # append the log_likelihodd values to the list for every 100 iterations\n",
    "        h = hypothesis(x, w)\n",
    "        gradient = (1/N)*np.dot(x.T, h-y)\n",
    "        w = w - learning_rate*gradient\n",
    "        \n",
    "        if(i%100==0):\n",
    "            log_likelihood_values.append(log_likelihood(x,y,w))\n",
    "        \n",
    "    return w, log_likelihood_values"
   ]
  },
  {
   "cell_type": "markdown",
   "metadata": {},
   "source": [
    "### After completing the code above, run the following"
   ]
  },
  {
   "cell_type": "code",
   "execution_count": 85,
   "metadata": {},
   "outputs": [
    {
     "name": "stdout",
     "output_type": "stream",
     "text": [
      "w [[-0.70635986]\n",
      " [ 0.42049997]\n",
      " [-0.45758485]\n",
      " [ 0.42953387]\n",
      " [-0.1147358 ]\n",
      " [-0.85557905]\n",
      " [ 2.34375681]\n",
      " [-1.21676924]\n",
      " [-1.78480458]\n",
      " [ 1.14724635]\n",
      " [ 0.11068737]\n",
      " [-3.32171659]\n",
      " [ 0.60463241]\n",
      " [-1.04854896]\n",
      " [-2.71069445]\n",
      " [-0.10536849]\n",
      " [ 0.95061307]\n",
      " [-0.50187958]\n",
      " [-1.52144379]\n",
      " [ 0.31475993]\n",
      " [ 2.56653339]\n",
      " [-2.06086893]\n",
      " [-2.37579937]\n",
      " [-1.32645571]\n",
      " [-2.26246946]\n",
      " [-0.37392621]\n",
      " [ 0.58843677]\n",
      " [-1.38616775]\n",
      " [-1.44431416]\n",
      " [-1.71084831]\n",
      " [-2.33700623]]\n",
      "llv [-0.23278924318017932, -0.07654771856785955, -0.06862802190321325, -0.06498706775275842, -0.06270074059127333, -0.06102618107787568, -0.059692844244571094, -0.0585791951286636, -0.057621836206039966, -0.05678327415101872, -0.05603853669654927, -0.05536931311028145, -0.05476157243444625, -0.05420456803166357, -0.05369014966548121, -0.05321211305620709, -0.0527656467596465, -0.05234692542206676, -0.05195283362105122, -0.05158078217567378, -0.051228584079390634, -0.050894368084251955, -0.05057651644508788, -0.050273618654592934, -0.049984436130282285, -0.049707874647757035, -0.04944296241250966, -0.049188832340255964, -0.04894470754756449, -0.04870988933783844, -0.048483747158636466, -0.04826571013822706, -0.04805525990251472, -0.04785192444080334, -0.04765527283843414, -0.04746491073149548, -0.04728047636710758, -0.04710163717466237, -0.046928086770522785, -0.04675954233224399, -0.046595742289218006, -0.04643644428538796, -0.04628142337678569, -0.04613047043246441, -0.045983390712190333, -0.04584000259822464, -0.04570013646183288, -0.04556363364792011, -0.045430345563512414, -0.0453001328577627]\n"
     ]
    }
   ],
   "source": [
    "# Set the learning_rate\n",
    "learning_rate = 0.5\n",
    "# Set the num_iters\n",
    "num_iters = 5000\n",
    "# Run the Logistic_Regresion_Gradient_Ascent() and store the returned values\n",
    "w, log_likelihood_values = Logistic_Regresion_Gradient_Ascent(x_train, y_train, learning_rate, num_iters)\n",
    "print(\"w\", w)\n",
    "print(\"llv\", log_likelihood_values)"
   ]
  },
  {
   "cell_type": "markdown",
   "metadata": {},
   "source": [
    "# Plotting Likelihood v/s Number of Iterations."
   ]
  },
  {
   "cell_type": "code",
   "execution_count": 86,
   "metadata": {},
   "outputs": [
    {
     "data": {
      "image/png": "[encoded data removed]",
      "text/plain": [
       "<Figure size 432x288 with 1 Axes>"
      ]
     },
     "metadata": {
      "needs_background": "light"
     },
     "output_type": "display_data"
    }
   ],
   "source": [
    "# Run this cell to plot Likelihood v/s Number of Iterations.\n",
    "iters = np.array(range(0,num_iters,100))\n",
    "plt.plot(iters,log_likelihood_values,'.-',color='green')\n",
    "plt.xlabel('Number of iterations')\n",
    "plt.ylabel('Likelihood')\n",
    "plt.title(\"Likelihood vs Number of Iterations.\")\n",
    "plt.grid()"
   ]
  },
  {
   "cell_type": "markdown",
   "metadata": {},
   "source": [
    "#  Evaluating your model"
   ]
  },
  {
   "cell_type": "code",
   "execution_count": 90,
   "metadata": {},
   "outputs": [],
   "source": [
    "# use hypothesis(...) to predict.\n",
    "\n",
    "y_predict = hypothesis(x_test,w)"
   ]
  },
  {
   "cell_type": "code",
   "execution_count": 100,
   "metadata": {},
   "outputs": [
    {
     "name": "stdout",
     "output_type": "stream",
     "text": [
      "Precision:  0.9895833333333334\n",
      "Recall:  0.979381443298969\n",
      "F1:  0.9844559585492227\n",
      "Confusion Matrix: \n",
      "TP:  95  FN:  2  FP:  1  TN:  45\n"
     ]
    }
   ],
   "source": [
    "TP=0\n",
    "FP=0\n",
    "FN=0\n",
    "TN=0\n",
    "\n",
    "for i in range(y_test.shape[0]):\n",
    "    # count TP,FP,FN,FP\n",
    "    if y_test[i]==0:\n",
    "        if y_predict[i]<0.5: \n",
    "            TN+=1\n",
    "        else:\n",
    "            FP+=1\n",
    "    else:\n",
    "        if y_predict[i]>=0.5:\n",
    "            TP+=1\n",
    "        else:\n",
    "            FN+=1\n",
    "        \n",
    "# calculate precision, recall and f1\n",
    "precision = TP/(TP+FP)\n",
    "recall = TP/(TP+FN)\n",
    "f1 = (2*precision*recall)/(precision+recall)\n",
    "\n",
    "print(\"Precision: \",precision)\n",
    "print(\"Recall: \",recall)\n",
    "print(\"F1: \",f1)\n",
    "print(\"Confusion Matrix: \")\n",
    "print(\"TP: \",TP,\" FN: \",FN,\" FP: \",FP,\" TN: \",TN)"
   ]
  },
  {
   "cell_type": "code",
   "execution_count": null,
   "metadata": {},
   "outputs": [],
   "source": []
  },
  {
   "cell_type": "code",
   "execution_count": null,
   "metadata": {},
   "outputs": [],
   "source": []
  }
 ],
 "metadata": {
  "kernelspec": {
   "display_name": "Python 3",
   "language": "python",
   "name": "python3"
  },
  "language_info": {
   "codemirror_mode": {
    "name": "ipython",
    "version": 3
   },
   "file_extension": ".py",
   "mimetype": "text/x-python",
   "name": "python",
   "nbconvert_exporter": "python",
   "pygments_lexer": "ipython3",
   "version": "3.8.3"
  }
 },
 "nbformat": 4,
 "nbformat_minor": 2
}
